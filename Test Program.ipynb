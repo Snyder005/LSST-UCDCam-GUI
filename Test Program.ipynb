{
 "cells": [
  {
   "cell_type": "code",
   "execution_count": 3,
   "id": "4ebb241c",
   "metadata": {},
   "outputs": [],
   "source": [
    "import os"
   ]
  },
  {
   "cell_type": "code",
   "execution_count": 2,
   "id": "0ddac8d0",
   "metadata": {},
   "outputs": [],
   "source": [
    "CfgFile = \"/sandbox/lsst/lsst/GUI/UCDavis.cfg\""
   ]
  },
  {
   "cell_type": "code",
   "execution_count": 4,
   "id": "747d54ca",
   "metadata": {},
   "outputs": [],
   "source": []
  },
  {
   "cell_type": "code",
   "execution_count": null,
   "id": "c91ab08e",
   "metadata": {},
   "outputs": [],
   "source": [
    "class Camera(object):\n",
    "    def CheckIfFileExists(self, filename):\n",
    "        try:\n",
    "            FileSize = os.path.getsize(filename)\n",
    "            return True\n",
    "        except OSError:\n",
    "            return False"
   ]
  }
 ],
 "metadata": {
  "kernelspec": {
   "display_name": "Python 3 (ipykernel)",
   "language": "python",
   "name": "python3"
  },
  "language_info": {
   "codemirror_mode": {
    "name": "ipython",
    "version": 3
   },
   "file_extension": ".py",
   "mimetype": "text/x-python",
   "name": "python",
   "nbconvert_exporter": "python",
   "pygments_lexer": "ipython3",
   "version": "3.8.10"
  }
 },
 "nbformat": 4,
 "nbformat_minor": 5
}
